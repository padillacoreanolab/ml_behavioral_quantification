{
  "cells": [
    {
      "cell_type": "markdown",
      "metadata": {
        "colab_type": "text",
        "id": "view-in-github"
      },
      "source": [
        "<a href=\"https://colab.research.google.com/github/rdiazrincon/SLEAP_Data/blob/master/analysis/prediction_analysis.ipynb\" target=\"_parent\"><img src=\"https://colab.research.google.com/assets/colab-badge.svg\" alt=\"Open In Colab\"/></a>"
      ]
    },
    {
      "cell_type": "markdown",
      "metadata": {
        "id": "tyKF30huLGGu"
      },
      "source": [
        "# Machine Learning for behavioral prediction of differences in dominant vs subordinate mice during reward competition "
      ]
    },
    {
      "cell_type": "markdown",
      "metadata": {
        "id": "X1hHln1WV94S"
      },
      "source": [
        "### (Optional) Installing required packages\n",
        "\n",
        "**Note:** If you are runnning this Notebook from Colab most packages will be already installed. But please do so if you are running locally."
      ]
    },
    {
      "cell_type": "code",
      "execution_count": 1,
      "metadata": {
        "id": "OHoGZn1rV94X"
      },
      "outputs": [],
      "source": [
        "# !pip install h5py\n",
        "# !pip install matplotlib\n",
        "# !pip install seaborn\n",
        "# !pip install pandas\n",
        "# !pip install sklearn\n",
        "# !pip install numpy\n",
        "# !pip install scipy\n",
        "# !pip install tables"
      ]
    },
    {
      "cell_type": "markdown",
      "metadata": {
        "id": "t5xcuH09V94e"
      },
      "source": [
        "### Importing packages"
      ]
    },
    {
      "cell_type": "code",
      "execution_count": 2,
      "metadata": {
        "id": "SYQqgplHV94j"
      },
      "outputs": [],
      "source": [
        "import h5py\n",
        "import numpy as np\n",
        "import seaborn as sns\n",
        "import matplotlib as mpl\n",
        "import matplotlib.pyplot as plt\n",
        "import pandas as pd\n",
        "from sklearn.model_selection import train_test_split\n",
        "from sklearn.ensemble import RandomForestClassifier\n",
        "from sklearn import metrics\n",
        "from sklearn.metrics import confusion_matrix\n",
        "from scipy.interpolate import interp1d"
      ]
    },
    {
      "cell_type": "markdown",
      "metadata": {
        "id": "atE14uzPV94o"
      },
      "source": [
        "### Getting the data from Github \n",
        "\n",
        "**Note:** Run this if you are using Colab. It will save the labeled data in your current directory."
      ]
    },
    {
      "cell_type": "code",
      "execution_count": 3,
      "metadata": {
        "id": "aPUQm-BhfD1W"
      },
      "outputs": [],
      "source": [
        "# !wget -O prediction_analysis.h5 https://github.com/rdiazrincon/SLEAP_Data/blob/master/analysis/data/prediction_analysis.h5"
      ]
    },
    {
      "cell_type": "markdown",
      "metadata": {
        "id": "qZc1luosV94v"
      },
      "source": [
        "### Setting up the paths for labeled data and reward competition info"
      ]
    },
    {
      "cell_type": "code",
      "execution_count": 4,
      "metadata": {
        "id": "ppJTyt2zgD8f"
      },
      "outputs": [],
      "source": [
        "path = \"data/prediction_analysis.h5\"\n",
        "intervals = \"data/WL_info_by_timestamp.csv\""
      ]
    },
    {
      "cell_type": "markdown",
      "metadata": {
        "id": "u7r5L5WVgKUV"
      },
      "source": [
        "## Exploring the data"
      ]
    },
    {
      "cell_type": "code",
      "execution_count": 5,
      "metadata": {
        "colab": {
          "base_uri": "https://localhost:8080/"
        },
        "id": "Sua2AKkTM8PN",
        "outputId": "3c6179d5-6b55-4bb9-e839-38941bb9cce8"
      },
      "outputs": [
        {
          "ename": "OSError",
          "evalue": "Unable to open file (file signature not found)",
          "output_type": "error",
          "traceback": [
            "\u001b[0;31m---------------------------------------------------------------------------\u001b[0m",
            "\u001b[0;31mOSError\u001b[0m                                   Traceback (most recent call last)",
            "\u001b[1;32m/home/ricardo/ml_behavioral_quantification/prediction_analysis.ipynb Cell 12\u001b[0m in \u001b[0;36m<cell line: 2>\u001b[0;34m()\u001b[0m\n\u001b[1;32m      <a href='vscode-notebook-cell:/home/ricardo/ml_behavioral_quantification/prediction_analysis.ipynb#X14sZmlsZQ%3D%3D?line=0'>1</a>\u001b[0m \u001b[39m# Opening the H5 file\u001b[39;00m\n\u001b[0;32m----> <a href='vscode-notebook-cell:/home/ricardo/ml_behavioral_quantification/prediction_analysis.ipynb#X14sZmlsZQ%3D%3D?line=1'>2</a>\u001b[0m \u001b[39mwith\u001b[39;00m h5py\u001b[39m.\u001b[39mFile(path, \u001b[39m\"\u001b[39m\u001b[39mr\u001b[39m\u001b[39m\"\u001b[39m) \u001b[39mas\u001b[39;00m f:\n\u001b[1;32m      <a href='vscode-notebook-cell:/home/ricardo/ml_behavioral_quantification/prediction_analysis.ipynb#X14sZmlsZQ%3D%3D?line=2'>3</a>\u001b[0m     dataset_keys \u001b[39m=\u001b[39m \u001b[39mlist\u001b[39m(f\u001b[39m.\u001b[39mkeys())\n\u001b[1;32m      <a href='vscode-notebook-cell:/home/ricardo/ml_behavioral_quantification/prediction_analysis.ipynb#X14sZmlsZQ%3D%3D?line=3'>4</a>\u001b[0m     tracks \u001b[39m=\u001b[39m f[\u001b[39m\"\u001b[39m\u001b[39mtracks\u001b[39m\u001b[39m\"\u001b[39m][:]\u001b[39m.\u001b[39mT\n",
            "File \u001b[0;32m~/anaconda3/envs/sleap/lib/python3.8/site-packages/h5py/_hl/files.py:507\u001b[0m, in \u001b[0;36mFile.__init__\u001b[0;34m(self, name, mode, driver, libver, userblock_size, swmr, rdcc_nslots, rdcc_nbytes, rdcc_w0, track_order, fs_strategy, fs_persist, fs_threshold, fs_page_size, page_buf_size, min_meta_keep, min_raw_keep, locking, **kwds)\u001b[0m\n\u001b[1;32m    502\u001b[0m     fapl \u001b[39m=\u001b[39m make_fapl(driver, libver, rdcc_nslots, rdcc_nbytes, rdcc_w0,\n\u001b[1;32m    503\u001b[0m                      locking, page_buf_size, min_meta_keep, min_raw_keep, \u001b[39m*\u001b[39m\u001b[39m*\u001b[39mkwds)\n\u001b[1;32m    504\u001b[0m     fcpl \u001b[39m=\u001b[39m make_fcpl(track_order\u001b[39m=\u001b[39mtrack_order, fs_strategy\u001b[39m=\u001b[39mfs_strategy,\n\u001b[1;32m    505\u001b[0m                      fs_persist\u001b[39m=\u001b[39mfs_persist, fs_threshold\u001b[39m=\u001b[39mfs_threshold,\n\u001b[1;32m    506\u001b[0m                      fs_page_size\u001b[39m=\u001b[39mfs_page_size)\n\u001b[0;32m--> 507\u001b[0m     fid \u001b[39m=\u001b[39m make_fid(name, mode, userblock_size, fapl, fcpl, swmr\u001b[39m=\u001b[39;49mswmr)\n\u001b[1;32m    509\u001b[0m \u001b[39mif\u001b[39;00m \u001b[39misinstance\u001b[39m(libver, \u001b[39mtuple\u001b[39m):\n\u001b[1;32m    510\u001b[0m     \u001b[39mself\u001b[39m\u001b[39m.\u001b[39m_libver \u001b[39m=\u001b[39m libver\n",
            "File \u001b[0;32m~/anaconda3/envs/sleap/lib/python3.8/site-packages/h5py/_hl/files.py:220\u001b[0m, in \u001b[0;36mmake_fid\u001b[0;34m(name, mode, userblock_size, fapl, fcpl, swmr)\u001b[0m\n\u001b[1;32m    218\u001b[0m     \u001b[39mif\u001b[39;00m swmr \u001b[39mand\u001b[39;00m swmr_support:\n\u001b[1;32m    219\u001b[0m         flags \u001b[39m|\u001b[39m\u001b[39m=\u001b[39m h5f\u001b[39m.\u001b[39mACC_SWMR_READ\n\u001b[0;32m--> 220\u001b[0m     fid \u001b[39m=\u001b[39m h5f\u001b[39m.\u001b[39;49mopen(name, flags, fapl\u001b[39m=\u001b[39;49mfapl)\n\u001b[1;32m    221\u001b[0m \u001b[39melif\u001b[39;00m mode \u001b[39m==\u001b[39m \u001b[39m'\u001b[39m\u001b[39mr+\u001b[39m\u001b[39m'\u001b[39m:\n\u001b[1;32m    222\u001b[0m     fid \u001b[39m=\u001b[39m h5f\u001b[39m.\u001b[39mopen(name, h5f\u001b[39m.\u001b[39mACC_RDWR, fapl\u001b[39m=\u001b[39mfapl)\n",
            "File \u001b[0;32mh5py/_objects.pyx:54\u001b[0m, in \u001b[0;36mh5py._objects.with_phil.wrapper\u001b[0;34m()\u001b[0m\n",
            "File \u001b[0;32mh5py/_objects.pyx:55\u001b[0m, in \u001b[0;36mh5py._objects.with_phil.wrapper\u001b[0;34m()\u001b[0m\n",
            "File \u001b[0;32mh5py/h5f.pyx:106\u001b[0m, in \u001b[0;36mh5py.h5f.open\u001b[0;34m()\u001b[0m\n",
            "\u001b[0;31mOSError\u001b[0m: Unable to open file (file signature not found)"
          ]
        }
      ],
      "source": [
        "# Opening the H5 file\n",
        "with h5py.File(path, \"r\") as f:\n",
        "    dataset_keys = list(f.keys())\n",
        "    tracks = f[\"tracks\"][:].T\n",
        "    bodyparts = [n.decode() for n in f[\"node_names\"][:]]\n",
        "\n",
        "print(f\"Filename:{path}\")\n",
        "print(f\"Array keys{dataset_keys}:\")\n",
        "print(f\"Behavioral data shape:{tracks.shape}\")\n",
        "print(f\"Body parts{bodyparts}\")"
      ]
    },
    {
      "cell_type": "markdown",
      "metadata": {
        "id": "9dvtNgr9V95B"
      },
      "source": [
        "## Understanding the data \n",
        "\n",
        "We only work with the tracks array. It contains information regarding Number of Frames, Number of Bodyparts, Number of Coordinates and Number of instances.\n"
      ]
    },
    {
      "cell_type": "code",
      "execution_count": null,
      "metadata": {
        "id": "wqWG0HoCV95E",
        "outputId": "bb63200a-3578-44c8-bd94-01d920aebbcc"
      },
      "outputs": [],
      "source": [
        "# Here's what each dimension of the matrix's shape means\n",
        "n_frames, n_bodyparts, n_coordinates, n_instances = tracks.shape\n",
        "\n",
        "print(f\"Number of Frames: {n_frames}\")\n",
        "print(f\"Number of Bodyparts: {n_bodyparts}\")\n",
        "print(f\"Number of Coordinates: {n_coordinates}\")\n",
        "print(f\"NUmber of Instances: {n_instances}\")"
      ]
    },
    {
      "cell_type": "markdown",
      "metadata": {
        "id": "yjOnaZn4V95I"
      },
      "source": [
        "### Exploring (and making sense out of) the data\n",
        "\n",
        "- The tracks array contains all of the information we need. \n",
        "- The first dimension of the array will provide us with information regarding the frames labeled in the video. \n",
        "- The second dimension relates to each body part (6 in our case). Note that, in the example below, we get data from the forehead by accesing position 5 in the array. \n",
        "- The third dimension relates to the X and Y coordinates and the fourth dimension to the number if animals/mice/instances\n"
      ]
    },
    {
      "cell_type": "markdown",
      "metadata": {
        "id": "OpLq-9G4V95L"
      },
      "source": [
        "#### First frame "
      ]
    },
    {
      "cell_type": "code",
      "execution_count": null,
      "metadata": {
        "id": "a7tkJxvEV95N",
        "outputId": "df2717ae-a227-4ae1-b48e-fd649eb5c09b"
      },
      "outputs": [],
      "source": [
        "print(tracks[0])"
      ]
    },
    {
      "cell_type": "markdown",
      "metadata": {
        "id": "-Ol2Yr6yV95Q"
      },
      "source": [
        "#### Forehead coordinates for both mouse in Frame 1\n",
        "\n",
        "**Note:** You can find the forehead data in position 5 of the tracks array. In general, the \"bodyparts\" array contains information regarding the position of bodyparts.\n",
        " "
      ]
    },
    {
      "cell_type": "code",
      "execution_count": null,
      "metadata": {
        "id": "6mi5rTZiV95T",
        "outputId": "be16dd3a-850a-4c93-c72c-8efd40410e52"
      },
      "outputs": [],
      "source": [
        "print(tracks[0][5])"
      ]
    },
    {
      "cell_type": "markdown",
      "metadata": {
        "id": "KCPlRPA9V95V"
      },
      "source": [
        "#### Forehead X-coordinate for both mouse in Frame 1"
      ]
    },
    {
      "cell_type": "code",
      "execution_count": null,
      "metadata": {
        "id": "ERvKc71gV95W",
        "outputId": "81850831-7092-42a2-c969-7d8053ad0ace"
      },
      "outputs": [],
      "source": [
        "print(tracks[0][5][0])"
      ]
    },
    {
      "cell_type": "markdown",
      "metadata": {
        "id": "w2YT0boMV95Y"
      },
      "source": [
        "#### Forehead Y-coordinate for mouse 2 in Frame 1."
      ]
    },
    {
      "cell_type": "code",
      "execution_count": null,
      "metadata": {
        "id": "DrA1uexzV95Z",
        "outputId": "8e54dc27-e209-40e7-ce7d-ef9b4de72cb2"
      },
      "outputs": [],
      "source": [
        "print(tracks[0][5][0][1]) "
      ]
    },
    {
      "cell_type": "markdown",
      "metadata": {
        "id": "2JKWBGbqjoH6"
      },
      "source": [
        "## Now let's mess around with the data ..."
      ]
    },
    {
      "cell_type": "markdown",
      "metadata": {
        "id": "sS28-dipM8PS"
      },
      "source": [
        "### Fill-in missing values\n",
        "\n",
        "We won't drop the NaN values but will fill them with Non Zero values so the analysis is easier to make"
      ]
    },
    {
      "cell_type": "code",
      "execution_count": null,
      "metadata": {
        "id": "96mH1IPbM8PS"
      },
      "outputs": [],
      "source": [
        "def fill_missing(Y, kind=\"linear\"):\n",
        "    \"\"\"Fills missing values independently along each dimension after the first.\"\"\"\n",
        "\n",
        "    # Store initial shape.\n",
        "    initial_shape = Y.shape\n",
        "\n",
        "    # Flatten after first dim.\n",
        "    Y = Y.reshape((initial_shape[0], -1))\n",
        "\n",
        "    # Interpolate along each slice.\n",
        "    for i in range(Y.shape[-1]):\n",
        "        y = Y[:, i]\n",
        "\n",
        "        # Build interpolant.\n",
        "        x = np.flatnonzero(~np.isnan(y))\n",
        "        f = interp1d(x, y[x], kind=kind, fill_value=np.nan, bounds_error=False)\n",
        "\n",
        "        # Fill missing\n",
        "        xq = np.flatnonzero(np.isnan(y))\n",
        "        y[xq] = f(xq)\n",
        "        \n",
        "        # Fill leading or trailing NaNs with the nearest non-NaN values\n",
        "        mask = np.isnan(y)\n",
        "        y[mask] = np.interp(np.flatnonzero(mask), np.flatnonzero(~mask), y[~mask])\n",
        "\n",
        "        # Save slice\n",
        "        Y[:, i] = y\n",
        "\n",
        "    # Restore to initial shape.\n",
        "    Y = Y.reshape(initial_shape)\n",
        "\n",
        "    return Y"
      ]
    },
    {
      "cell_type": "markdown",
      "metadata": {
        "id": "LpZ7GrfVV95j"
      },
      "source": [
        "After filling out the NaN values with None Zero values, the array maintains the same shape"
      ]
    },
    {
      "cell_type": "code",
      "execution_count": null,
      "metadata": {
        "id": "-zadxB39M8PU",
        "outputId": "6e671ec9-778b-4643-8be5-098cb56193a9"
      },
      "outputs": [],
      "source": [
        "tracks = fill_missing(tracks)\n",
        "print(tracks.shape)"
      ]
    },
    {
      "cell_type": "markdown",
      "metadata": {
        "id": "D8zxkE9eV95m"
      },
      "source": [
        "### Reading and handling information related to Reward Competition\n",
        "\n",
        "The information in the Frames column relates to the frames that make up a Trial. We will be reading a file to get this information\n"
      ]
    },
    {
      "cell_type": "code",
      "execution_count": null,
      "metadata": {
        "id": "ADcjMl5CV95o",
        "outputId": "2be73057-795a-44b1-9c06-6312c6861365"
      },
      "outputs": [],
      "source": [
        "df_trials = pd.read_csv(intervals)['Frame']\n",
        "df_trials"
      ]
    },
    {
      "cell_type": "markdown",
      "metadata": {
        "id": "zdrPAWr6V95q"
      },
      "source": [
        "### Converting the trials DataFrame to an array"
      ]
    },
    {
      "cell_type": "markdown",
      "metadata": {},
      "source": [
        "Using the dash to separate each trial in an array"
      ]
    },
    {
      "cell_type": "code",
      "execution_count": null,
      "metadata": {
        "id": "k6mo2sa8V95r",
        "outputId": "8752d1a0-8c41-4665-b830-8e280b190a17"
      },
      "outputs": [],
      "source": [
        "trials_array_separated = [trial.split(\"-\") for trial in df_trials] # Returns a list of lists\n",
        "print(trials_array_separated)"
      ]
    },
    {
      "cell_type": "markdown",
      "metadata": {},
      "source": [
        "Looping through the nested array, converting each (str) element to int and appending the elements in a new array \n"
      ]
    },
    {
      "cell_type": "code",
      "execution_count": null,
      "metadata": {},
      "outputs": [],
      "source": [
        "trials_array = [int(j) for i in range(len(trials_array_separated)) for j in trials_array_separated[i]]\n",
        "print(trials_array)\n",
        "\n",
        "# Leaving this here for future reference\n",
        "# for i in range(len(trials_array_separated)):\n",
        "#     for j in trials_array_separated[i]:\n",
        "#         trials_array.append(eval(j))\n",
        "        \n",
        "# trials_array"
      ]
    },
    {
      "cell_type": "markdown",
      "metadata": {
        "id": "1dt3i6T9mHUh"
      },
      "source": [
        "## Getting information on mice coordinates based in trials \n",
        "\n",
        "For each body part, we loop through the set of frames that comprise a single trial. We repeat for all the trials in the competition (20).\n",
        "Each video has 30 frames per second(FPS) and each trial lasts 10 second."
      ]
    },
    {
      "cell_type": "code",
      "execution_count": null,
      "metadata": {
        "id": "ch0Yr25EM8PW"
      },
      "outputs": [],
      "source": [
        "LEFT_EAR_INDEX = 0\n",
        "RIGHT_EAR_INDEX = 1\n",
        "NOSE_INDEX = 2\n",
        "TAIL_BASE_INDEX = 3\n",
        "THORAX_INDEX = 4\n",
        "FOREHEAD_INDEX = 5\n",
        "\n",
        "TRIAL_LENGTH_SECONDS = 10\n",
        "N_TRIALS = 20\n",
        "FPS = 30\n",
        "\n",
        "time_window_seconds = 5\n",
        "\n",
        "frames_per_trial = FPS * TRIAL_LENGTH_SECONDS\n",
        "time_window_frames = FPS * time_window_seconds\n",
        "\n",
        "left_ear_loc_aux = []\n",
        "right_ear_loc_aux = []\n",
        "nose_loc_aux = []\n",
        "tail_base_loc_aux = []\n",
        "thorax_loc_aux = []\n",
        "forehead_loc_aux = []"
      ]
    },
    {
      "cell_type": "markdown",
      "metadata": {},
      "source": [
        "Using the onset information to target a different set of frames. Now we are looking at the frames that occur 30 seconds prior to the tone onset and 30 seconds before the tone onset. That is, we will be looking at time_window_frames frames before and after"
      ]
    },
    {
      "cell_type": "code",
      "execution_count": null,
      "metadata": {},
      "outputs": [],
      "source": [
        "it = iter(trials_array)\n",
        "trials_array_onset = []\n",
        "for i, j in zip(it, it):\n",
        "    trials_array_onset.append(i - time_window_frames)\n",
        "    trials_array_onset.append(j)"
      ]
    },
    {
      "cell_type": "code",
      "execution_count": null,
      "metadata": {},
      "outputs": [],
      "source": [
        "print(trials_array_onset)"
      ]
    },
    {
      "cell_type": "code",
      "execution_count": null,
      "metadata": {},
      "outputs": [],
      "source": [
        "print(trials_array)     "
      ]
    },
    {
      "cell_type": "markdown",
      "metadata": {},
      "source": [
        "Using the trials_array to loop through the intervals (first_frame_in_trial:last_frame_in_trial) and fill the vector with the coordinates corresponding for both mice and their body parts  \n"
      ]
    },
    {
      "cell_type": "code",
      "execution_count": null,
      "metadata": {},
      "outputs": [],
      "source": [
        "iterator = iter(trials_array_onset)\n",
        "for first_frame_in_trial, last_frame_in_trial in zip(iterator, iterator):\n",
        "    # print(len(tracks[first_frame_in_trial:last_frame_in_trial, RIGHT_EAR_INDEX, :, :]))\n",
        "    left_ear_loc_aux.append(tracks[first_frame_in_trial:last_frame_in_trial, LEFT_EAR_INDEX, :, :])\n",
        "    right_ear_loc_aux.append(tracks[first_frame_in_trial:last_frame_in_trial, RIGHT_EAR_INDEX, :, :])\n",
        "    nose_loc_aux.append(tracks[first_frame_in_trial:last_frame_in_trial, NOSE_INDEX, :, :])\n",
        "    tail_base_loc_aux.append(tracks[first_frame_in_trial:last_frame_in_trial, TAIL_BASE_INDEX, :, :])\n",
        "    thorax_loc_aux.append(tracks[first_frame_in_trial:last_frame_in_trial, THORAX_INDEX, :, :])\n",
        "    forehead_loc_aux.append(tracks[first_frame_in_trial:last_frame_in_trial, FOREHEAD_INDEX, :, :])\n",
        "\n",
        "frames_in_trial = last_frame_in_trial - first_frame_in_trial"
      ]
    },
    {
      "cell_type": "code",
      "execution_count": null,
      "metadata": {},
      "outputs": [],
      "source": [
        "array_shape = np.asarray(left_ear_loc_aux).shape\n",
        "print(f\"Old shape: {array_shape}\")\n",
        "left_ear_loc = np.asarray(left_ear_loc_aux).reshape(N_TRIALS * frames_in_trial , n_coordinates, n_instances)\n",
        "print(f\"New shape: {left_ear_loc.shape}\")\n",
        "right_ear_loc = np.asarray(right_ear_loc_aux).reshape(N_TRIALS * frames_in_trial, n_coordinates, n_instances)\n",
        "nose_loc = np.asarray(nose_loc_aux).reshape(N_TRIALS * frames_in_trial, n_coordinates, n_instances)\n",
        "tail_base_loc = np.asarray(tail_base_loc_aux).reshape(N_TRIALS * frames_in_trial, n_coordinates, n_instances)\n",
        "thorax_loc = np.asarray(thorax_loc_aux).reshape(N_TRIALS * frames_in_trial, n_coordinates, n_instances)\n",
        "forehead_loc = np.asarray(forehead_loc_aux).reshape(N_TRIALS * frames_in_trial, n_coordinates, n_instances)"
      ]
    },
    {
      "cell_type": "markdown",
      "metadata": {
        "id": "PfaH1g4cV95w"
      },
      "source": [
        "### Converting our data into a Tabular format"
      ]
    },
    {
      "cell_type": "code",
      "execution_count": null,
      "metadata": {
        "id": "Nd8oYg5CV95y",
        "outputId": "3e091af2-4f38-4bc5-c793-6a4ee232a1cf"
      },
      "outputs": [],
      "source": [
        "# There is definitely an easier way of doing this but I don't have the time now\n",
        "\n",
        "bp = ['left_ear', 'right_ear', 'thorax', 'tail', 'nose']\n",
        "coord = ['x', 'y']\n",
        "for i in range(1):\n",
        "    for j in range(1):\n",
        "        df_bla = {\n",
        "            'm{j}_{bp[{0}]}_{i}': left_ear_loc[:, i, j]\n",
        "        }\n",
        "\n",
        "df = pd.DataFrame({\n",
        "    'm1_left_ear_x': left_ear_loc[:, 0, 0], \n",
        "    'm1_left_ear_y': left_ear_loc[:, 1, 0], \n",
        "    \"m2_left_ear_x\": left_ear_loc[:, 0, 1],\n",
        "    \"m2_left_ear_y\": left_ear_loc[:, 1, 1],\n",
        "\n",
        "    'm1_right_ear_x': right_ear_loc[:, 0, 0], \n",
        "    'm1_right_ear_y': right_ear_loc[:, 1, 0], \n",
        "    \"m2_right_ear_x\": right_ear_loc[:, 0, 1],\n",
        "    \"m2_right_ear_y\": right_ear_loc[:, 1, 1],\n",
        "    \n",
        "    'm1_nose_x': nose_loc[:, 0, 0], \n",
        "    'm1_nose_y': nose_loc[:, 1, 0], \n",
        "    \"m2_nose_x\": nose_loc[:, 0, 1],\n",
        "    \"m2_nose_y\": nose_loc[:, 1, 1],\n",
        "\n",
        "    'm1_tail_base_x': tail_base_loc[:, 0, 0], \n",
        "    'm1_tail_base_y': tail_base_loc[:, 1, 0], \n",
        "    \"m2_tail_base_x\": tail_base_loc[:, 0, 1],\n",
        "    \"m2_tail_base_y\": tail_base_loc[:, 1, 1],\n",
        "\n",
        "    'm1_thorax_x': thorax_loc[:, 0, 0], \n",
        "    'm1_thorax_y': thorax_loc[:, 1, 0], \n",
        "    \"m2_thorax_x\": thorax_loc[:, 0, 1],\n",
        "    \"m2_thorax_y\": thorax_loc[:, 1, 1],\n",
        "\n",
        "    'm1_forehead_x': forehead_loc[:, 0, 0], \n",
        "    'm1_forehead_y': forehead_loc[:, 1, 0], \n",
        "    \"m2_forehead_x\": forehead_loc[:, 0, 1],\n",
        "    \"m2_forehead_y\": forehead_loc[:, 1, 1],\n",
        "    })\n",
        "df"
      ]
    },
    {
      "cell_type": "markdown",
      "metadata": {
        "id": "koun2TtzV952"
      },
      "source": [
        "### Further exploration of the data"
      ]
    },
    {
      "cell_type": "code",
      "execution_count": null,
      "metadata": {
        "id": "cwnTATyTV953",
        "outputId": "4646cc65-b5fb-4d99-ce4b-577eb390af95"
      },
      "outputs": [],
      "source": [
        "df.describe()"
      ]
    },
    {
      "cell_type": "code",
      "execution_count": null,
      "metadata": {
        "id": "ffdkFxvpV955",
        "outputId": "dab8a345-b3b6-4667-f4b6-43c76792e33c"
      },
      "outputs": [],
      "source": [
        "df.sample()"
      ]
    },
    {
      "cell_type": "code",
      "execution_count": null,
      "metadata": {
        "id": "7raPanxJV956",
        "outputId": "2f129a00-e66d-45d8-bf98-1ed913de6ce3"
      },
      "outputs": [],
      "source": [
        "df.value_counts()"
      ]
    },
    {
      "cell_type": "code",
      "execution_count": null,
      "metadata": {
        "id": "3IKRU9iQV958",
        "outputId": "18d8a1fc-6ad2-4621-e90b-437061188c5e"
      },
      "outputs": [],
      "source": [
        "df2 = pd.read_csv(intervals)['Winner (1:M_1,0:M_2,2:Tie)']\n",
        "df2"
      ]
    },
    {
      "cell_type": "code",
      "execution_count": null,
      "metadata": {
        "id": "7PwUmorJV95-",
        "outputId": "f0e86feb-7815-48b7-f42c-55612f04f027"
      },
      "outputs": [],
      "source": [
        "features_array = df2.to_numpy().repeat(frames_in_trial)\n",
        "print(features_array.shape)"
      ]
    },
    {
      "cell_type": "markdown",
      "metadata": {
        "id": "GdXutPnrV95_"
      },
      "source": [
        "### Running Random Forest for prediction"
      ]
    },
    {
      "cell_type": "code",
      "execution_count": null,
      "metadata": {
        "id": "M3U7-vmbV96B"
      },
      "outputs": [],
      "source": [
        "X = df\n",
        "Y = features_array"
      ]
    },
    {
      "cell_type": "code",
      "execution_count": null,
      "metadata": {
        "id": "d2AKaQc7V96D",
        "outputId": "ae5ea499-262e-4de6-b8a1-cfcee04c39fd"
      },
      "outputs": [],
      "source": [
        "X.shape"
      ]
    },
    {
      "cell_type": "code",
      "execution_count": null,
      "metadata": {
        "id": "LgyKh5GyV96F",
        "outputId": "6bd4b35a-2a00-4ebe-8559-b6db969c837e"
      },
      "outputs": [],
      "source": [
        "Y.shape"
      ]
    },
    {
      "cell_type": "code",
      "execution_count": null,
      "metadata": {
        "id": "pLCcHmn8V96G"
      },
      "outputs": [],
      "source": [
        "X_train, X_test, y_train, y_test = train_test_split(X, Y, test_size=0.2, random_state=20)"
      ]
    },
    {
      "cell_type": "code",
      "execution_count": null,
      "metadata": {
        "id": "resgp-0AV96I"
      },
      "outputs": [],
      "source": [
        "model = RandomForestClassifier(n_estimators = 10, random_state = 30)"
      ]
    },
    {
      "cell_type": "code",
      "execution_count": null,
      "metadata": {
        "id": "P3Tgcte8V96J",
        "outputId": "b442e9e0-a637-4d8d-ec8f-65a8b81b7347"
      },
      "outputs": [],
      "source": [
        "model.fit(X_train, y_train)"
      ]
    },
    {
      "cell_type": "code",
      "execution_count": null,
      "metadata": {},
      "outputs": [],
      "source": [
        "df_see_frames = X_test.index\n",
        "df_see_frames"
      ]
    },
    {
      "cell_type": "code",
      "execution_count": null,
      "metadata": {
        "id": "Te11sSzhV96L",
        "outputId": "94875dc0-96b8-4a4c-b39c-dd4f036d0e1d"
      },
      "outputs": [],
      "source": [
        "prediction_test = model.predict(X_test)\n",
        "prediction_test"
      ]
    },
    {
      "cell_type": "code",
      "execution_count": null,
      "metadata": {
        "id": "ysgL8hL9V96N",
        "outputId": "4c0c4515-7757-48f3-c6a0-1d6b4793c8e9"
      },
      "outputs": [],
      "source": [
        "prediction_probability = model.predict_proba(X_test)\n",
        "prediction_probability"
      ]
    },
    {
      "cell_type": "code",
      "execution_count": null,
      "metadata": {
        "id": "nLiw_7SpV96P",
        "outputId": "9f022c40-d08e-4ad4-e876-78db10d7bb1d"
      },
      "outputs": [],
      "source": [
        "print (f\"Accuracy: {metrics.accuracy_score(y_test, prediction_test):.2f}\")"
      ]
    },
    {
      "cell_type": "code",
      "execution_count": null,
      "metadata": {
        "id": "mNZoA9fWV96R",
        "outputId": "8ec1141d-75b7-44fa-f748-e74f9f33830e"
      },
      "outputs": [],
      "source": [
        "print(model.score(X_test, y_test))"
      ]
    },
    {
      "cell_type": "code",
      "execution_count": null,
      "metadata": {},
      "outputs": [],
      "source": [
        "X_test"
      ]
    },
    {
      "cell_type": "code",
      "execution_count": null,
      "metadata": {
        "id": "fXtjlz_zV96U",
        "outputId": "f47c41a7-46d4-487b-b13b-05de95fc4daa"
      },
      "outputs": [],
      "source": [
        "confusion_matrix_table = pd.DataFrame({\"Frame\": df_see_frames, \"Predicted Class Label\": np.array(prediction_test), \"Actual Class Label\": np.array(y_test),})\n",
        "confusion_matrix_table = confusion_matrix_table.sort_values(by='Frame', ascending=True)\n",
        "confusion_matrix_table"
      ]
    },
    {
      "cell_type": "code",
      "execution_count": null,
      "metadata": {
        "id": "zKci8JAMV96V",
        "outputId": "0db64c6b-faa9-441d-e682-207b7a60d1bf"
      },
      "outputs": [],
      "source": [
        "feature_list = list(X.columns)\n",
        "feature_list"
      ]
    },
    {
      "cell_type": "code",
      "execution_count": null,
      "metadata": {
        "id": "cOsVZWfAV96X",
        "outputId": "9b1461cc-30c6-4e57-aab1-445f293ccf4b"
      },
      "outputs": [],
      "source": [
        "feature_imp = pd.Series(model.feature_importances_,index=feature_list).sort_values(ascending=False)\n",
        "feature_imp"
      ]
    },
    {
      "cell_type": "markdown",
      "metadata": {},
      "source": [
        "## Plotting the Confusion Matrix"
      ]
    },
    {
      "cell_type": "code",
      "execution_count": null,
      "metadata": {
        "id": "VrL4Q4-7V96Y",
        "outputId": "0117709e-8ccf-449e-8e48-a02205b46d7b"
      },
      "outputs": [],
      "source": [
        "cm = confusion_matrix(y_test, prediction_test)\n",
        "sns.set(rc={'figure.figsize':(10,10)}, font_scale=1.5)\n",
        "# plot = sns.heatmap(cm, annot=True, square=True, linewidths=.5, cmap=\"YlOrBr\", fmt='d')\n",
        "plot = sns.heatmap(cm, annot=True, square=True, linewidths=.5, cmap=\"YlGnBu\", fmt='d')\n",
        "plot.set(xlabel='Predicted Frames', ylabel='True Frames')"
      ]
    },
    {
      "cell_type": "code",
      "execution_count": null,
      "metadata": {
        "id": "mMjBC4rCM8Pa"
      },
      "outputs": [],
      "source": [
        "sns.set('notebook', 'ticks', font_scale=1.2)\n",
        "mpl.rcParams['figure.figsize'] = [15,6]"
      ]
    },
    {
      "cell_type": "code",
      "execution_count": null,
      "metadata": {
        "colab": {
          "base_uri": "https://localhost:8080/",
          "height": 831
        },
        "id": "lZ9wU0jzM8Pb",
        "outputId": "ff2a6c7b-0854-4d4f-dbad-4b33fad198a0"
      },
      "outputs": [],
      "source": [
        "# Figure 1\n",
        "plt.figure()\n",
        "\n",
        "plt.plot(nose_loc[:,0,0], 'r',label='Mouse_1')\n",
        "plt.plot(nose_loc[:,0,1], 'b',label='Mouse_2')\n",
        "# plt.plot(-1*nose_loc[:,1,0], 'r')\n",
        "# plt.plot(-1*nose_loc[:,1,1], 'b')\n",
        "\n",
        "plt.legend(loc=\"center right\")\n",
        "\n",
        "plt.title('Nose location')\n",
        "\n",
        "# Figure 2\n",
        "plt.figure(figsize=(15,15))\n",
        "\n",
        "plt.plot(nose_loc[:,0,0],nose_loc[:,1,0], 'r',label='Mouse_1')\n",
        "plt.plot(nose_loc[:,0,1],nose_loc[:,1,1], 'b',label='Mouse_2')\n",
        "plt.legend()\n",
        "\n",
        "plt.xlim(0,1024)\n",
        "plt.xticks([])\n",
        "\n",
        "plt.ylim(0,1024)\n",
        "plt.yticks([])\n",
        "plt.title('Nose tracks across frames')"
      ]
    },
    {
      "cell_type": "markdown",
      "metadata": {
        "id": "jPe_mc-wM8Pd"
      },
      "source": [
        "## More advanced visualizations (In Progress)\n",
        "\n",
        "For some additional analysis, we'll first smooth and differentiate the data with a Savitzky-Golay filter to extract velocities of each joint."
      ]
    },
    {
      "cell_type": "code",
      "execution_count": null,
      "metadata": {
        "id": "IPCHkT1-M8Pd"
      },
      "outputs": [],
      "source": [
        "from scipy.signal import savgol_filter\n",
        "\n",
        "def smooth_diff(node_loc, win=25, poly=3):\n",
        "    \"\"\"\n",
        "    node_loc is a [frames, 2] array\n",
        "    \n",
        "    win defines the window to smooth over\n",
        "    \n",
        "    poly defines the order of the polynomial\n",
        "    to fit with\n",
        "    \n",
        "    \"\"\"\n",
        "    node_loc_vel = np.zeros_like(node_loc)\n",
        "    \n",
        "    for c in range(node_loc.shape[-1]):\n",
        "        node_loc_vel[:, c] = savgol_filter(node_loc[:, c], win, poly, deriv=1)\n",
        "    \n",
        "    node_vel = np.linalg.norm(node_loc_vel,axis=1)\n",
        "\n",
        "    return node_vel"
      ]
    },
    {
      "cell_type": "markdown",
      "metadata": {
        "id": "Vpq6cw9pM8Pe"
      },
      "source": [
        "There are two mice. Let's get results for each separately."
      ]
    },
    {
      "cell_type": "code",
      "execution_count": null,
      "metadata": {
        "id": "jcRqRSUlM8Pf"
      },
      "outputs": [],
      "source": [
        "thx_vel_mouse1 = smooth_diff(nose_loc[:, :, 0].astype('float64'))\n",
        "thx_vel_mouse2 = smooth_diff(nose_loc[:, :, 1].astype('float64'))"
      ]
    },
    {
      "cell_type": "markdown",
      "metadata": {
        "id": "5CzJhQcPM8Pg"
      },
      "source": [
        "### Visualizing thorax x-y dynamics and velocity for Mouse_1"
      ]
    },
    {
      "cell_type": "code",
      "execution_count": null,
      "metadata": {
        "colab": {
          "base_uri": "https://localhost:8080/",
          "height": 451
        },
        "id": "L_CRmS1rM8Pg",
        "outputId": "8b598004-765a-4a02-a739-a98c604fd1a2"
      },
      "outputs": [],
      "source": [
        "fig = plt.figure(figsize=(15,7))\n",
        "ax1 = fig.add_subplot(211)\n",
        "ax1.plot(thorax_loc[:, 0, 0], 'k', label='x')\n",
        "ax1.plot(-1*thorax_loc[:, 1, 0], 'k', label='y')\n",
        "ax1.legend()\n",
        "ax1.set_xticks([])\n",
        "ax1.set_title('Thorax')\n",
        "\n",
        "ax2 = fig.add_subplot(212, sharex=ax1)\n",
        "# Using the Transpose of the Matrix\n",
        "ax2.imshow(thx_vel_mouse1[:,np.newaxis].T, aspect='auto', vmin=0, vmax=10)\n",
        "ax2.set_yticks([])\n",
        "ax2.set_title('Velocity')"
      ]
    },
    {
      "cell_type": "markdown",
      "metadata": {
        "id": "kXnxUssanZq3"
      },
      "source": [
        "### Visualize thorax colored by magnitude of Mouse speed"
      ]
    },
    {
      "cell_type": "code",
      "execution_count": null,
      "metadata": {
        "colab": {
          "base_uri": "https://localhost:8080/",
          "height": 397
        },
        "id": "jhmqJAFPM8Ph",
        "outputId": "e3a8d876-8efb-4694-ab15-f862fe2c114f"
      },
      "outputs": [],
      "source": [
        "fig = plt.figure(figsize=(15,6))\n",
        "ax1 = fig.add_subplot(121)\n",
        "ax1.plot(thorax_loc[:, 0, 0], thorax_loc[:, 1, 0], 'k')\n",
        "ax1.set_xlim(0,1024)\n",
        "ax1.set_xticks([])\n",
        "ax1.set_ylim(0,1024)\n",
        "ax1.set_yticks([])\n",
        "ax1.set_title('Thorax tracks')\n",
        "\n",
        "kp = thx_vel_mouse1 \n",
        "vmin = 0\n",
        "vmax = 10\n",
        "\n",
        "ax2 = fig.add_subplot(122)\n",
        "ax2.scatter(thorax_loc[:,0,0], thorax_loc[:,1,0], c=kp, s=4, vmin=vmin, vmax=vmax)\n",
        "ax2.set_xlim(0,1024)\n",
        "ax2.set_xticks([])\n",
        "ax2.set_ylim(0,1024)\n",
        "ax2.set_yticks([])\n",
        "ax2.set_title('Thorax tracks colored by magnitude of Mouse speed')"
      ]
    },
    {
      "cell_type": "markdown",
      "metadata": {
        "id": "IHBEg-ysM8Pj"
      },
      "source": [
        "### Find covariance in thorax velocities between Mouse_1 and Mouse_2"
      ]
    },
    {
      "cell_type": "code",
      "execution_count": null,
      "metadata": {
        "id": "x-cXNvlSM8Pj"
      },
      "outputs": [],
      "source": [
        "def corr_roll(datax, datay, win):\n",
        "    \"\"\"\n",
        "    datax, datay are the two timeseries to find correlations between\n",
        "    \n",
        "    win sets the number of frames over which the covariance is computed\n",
        "    \n",
        "    \"\"\"\n",
        "    \n",
        "    s1 = pd.Series(datax)\n",
        "    s2 = pd.Series(datay)\n",
        "    \n",
        "    return np.array(s2.rolling(win).corr(s1))"
      ]
    },
    {
      "cell_type": "code",
      "execution_count": null,
      "metadata": {
        "colab": {
          "base_uri": "https://localhost:8080/",
          "height": 432
        },
        "id": "cwUZXiqoM8Pk",
        "outputId": "9bfcdb44-f7fe-4666-a9e5-64e21a3c1149"
      },
      "outputs": [],
      "source": [
        "win = 50\n",
        "\n",
        "cov_vel = corr_roll(thx_vel_mouse1, thx_vel_mouse2,win)\n",
        "\n",
        "fig, ax = plt.subplots(2, 1, sharex=True, figsize=(15,6))\n",
        "ax[0].plot(thx_vel_mouse1, 'y', label='Mouse_1')\n",
        "ax[0].plot(thx_vel_mouse2, 'g', label='Mouse_2')\n",
        "ax[0].legend()\n",
        "ax[0].set_title('Forward Velocity')\n",
        "\n",
        "ax[1].plot(cov_vel, 'c', markersize=1)\n",
        "ax[1].set_ylim(-1.2, 1.2)\n",
        "ax[1].set_title('Covariance')\n",
        "\n",
        "fig.tight_layout()"
      ]
    },
    {
      "cell_type": "markdown",
      "metadata": {
        "id": "mr1be_xJV96x"
      },
      "source": [
        "### Todo:\n",
        "- Use frame rate (30) to correlate have an intuition of which set of frames correspond to which minute/second in the video"
      ]
    },
    {
      "cell_type": "markdown",
      "metadata": {
        "id": "wbJGtGNGM8Pm"
      },
      "source": [
        "## Clustering\n",
        "\n",
        "For an example of clustering the data, we'll\n",
        "\n",
        "1. extract joint velocities for each joint,\n",
        "2. run k-means on the velocities from each frame.\n"
      ]
    },
    {
      "cell_type": "code",
      "execution_count": null,
      "metadata": {
        "id": "4yf4CQDTM8Pm"
      },
      "outputs": [],
      "source": [
        "def instance_node_velocities(instance_idx):\n",
        "    mouse_node_tracks = tracks[:, :, :, instance_idx]\n",
        "    mouse_node_velocities = np.zeros((n_frames, n_bodyparts))\n",
        "\n",
        "    for n in range(0, n_bodyparts):\n",
        "        mouse_node_velocities[:, n] = smooth_diff(mouse_node_tracks[:, n, :])\n",
        "    \n",
        "    return mouse_node_velocities"
      ]
    },
    {
      "cell_type": "code",
      "execution_count": null,
      "metadata": {
        "id": "wmq-D9fiqwwB"
      },
      "outputs": [],
      "source": [
        "def plot_instance_node_velocities(instance_idx, node_velocities):\n",
        "    plt.figure(figsize=(20,8))\n",
        "    plt.imshow(node_velocities.T, aspect='auto', vmin=0, vmax=20, interpolation=\"nearest\")\n",
        "    plt.xlabel('frames')\n",
        "    plt.ylabel('nodes')\n",
        "    plt.yticks(np.arange(n_bodyparts), bodyparts, rotation=20);\n",
        "    plt.title(f'Mouse {instance_idx} node velocities')"
      ]
    },
    {
      "cell_type": "code",
      "execution_count": null,
      "metadata": {
        "colab": {
          "base_uri": "https://localhost:8080/",
          "height": 523
        },
        "id": "kn_LHczvqh5C",
        "outputId": "995ec261-9e92-4d58-c007-a61abe9a9330"
      },
      "outputs": [],
      "source": [
        "mouse_ID = 0\n",
        "mouse_node_velocities = instance_node_velocities(mouse_ID)\n",
        "plot_instance_node_velocities(mouse_ID, mouse_node_velocities)"
      ]
    },
    {
      "cell_type": "code",
      "execution_count": null,
      "metadata": {
        "colab": {
          "base_uri": "https://localhost:8080/",
          "height": 523
        },
        "id": "GWmQp_r0M8Pp",
        "outputId": "08587a35-0f8e-46b4-ff1c-ee80a6a407d3"
      },
      "outputs": [],
      "source": [
        "mouse_ID = 1\n",
        "mouse_node_velocities = instance_node_velocities(mouse_ID)\n",
        "plot_instance_node_velocities(mouse_ID, mouse_node_velocities)"
      ]
    },
    {
      "cell_type": "code",
      "execution_count": null,
      "metadata": {
        "id": "_BOOJFBtM8Pr"
      },
      "outputs": [],
      "source": [
        "from sklearn.cluster import KMeans"
      ]
    },
    {
      "cell_type": "code",
      "execution_count": null,
      "metadata": {
        "id": "ZHY_uo_LM8Ps"
      },
      "outputs": [],
      "source": [
        "nstates = 10\n",
        "\n",
        "km = KMeans(n_clusters=nstates)\n",
        "\n",
        "labels = km.fit_predict(mouse_node_velocities)"
      ]
    },
    {
      "cell_type": "code",
      "execution_count": null,
      "metadata": {
        "colab": {
          "base_uri": "https://localhost:8080/",
          "height": 741
        },
        "id": "BO8udp-bM8Pt",
        "outputId": "d7dd2b61-9009-4c29-bab6-5f04a826c05c"
      },
      "outputs": [],
      "source": [
        "fig = plt.figure(figsize=(20, 12))\n",
        "\n",
        "ax1 = fig.add_subplot(211)\n",
        "ax1.imshow(mouse_node_velocities.T, aspect=\"auto\", vmin=0, vmax=20, interpolation=\"nearest\")\n",
        "ax1.set_xlabel(\"Frames\")\n",
        "ax1.set_ylabel(\"Nodes\")\n",
        "ax1.set_yticks(np.arange(n_bodyparts))\n",
        "ax1.set_yticklabels(bodyparts);\n",
        "ax1.set_title(f\"Mouse {mouse_ID} node velocities\")\n",
        "ax1.set_xlim(0,n_frames)\n",
        "\n",
        "ax2 = fig.add_subplot(212,sharex=ax1)\n",
        "ax2.imshow(labels[None, :], aspect=\"auto\", cmap=\"tab10\", interpolation=\"nearest\")\n",
        "ax2.set_xlabel(\"Frames\")\n",
        "ax2.set_yticks([])\n",
        "ax2.set_title(\"Ethogram (colors = clusters)\");"
      ]
    }
  ],
  "metadata": {
    "colab": {
      "collapsed_sections": [],
      "include_colab_link": true,
      "name": "Analysis examples.ipynb",
      "provenance": [],
      "toc_visible": true
    },
    "kernelspec": {
      "display_name": "Python 3.8.12 ('sleap')",
      "language": "python",
      "name": "python3"
    },
    "language_info": {
      "codemirror_mode": {
        "name": "ipython",
        "version": 3
      },
      "file_extension": ".py",
      "mimetype": "text/x-python",
      "name": "python",
      "nbconvert_exporter": "python",
      "pygments_lexer": "ipython3",
      "version": "3.8.12"
    },
    "vscode": {
      "interpreter": {
        "hash": "89b32c871c216344fb10732c00814d306335dba348eb3756d4b4a14b624b03bb"
      }
    }
  },
  "nbformat": 4,
  "nbformat_minor": 0
}
